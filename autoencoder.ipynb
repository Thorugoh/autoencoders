{
  "nbformat": 4,
  "nbformat_minor": 0,
  "metadata": {
    "colab": {
      "provenance": [],
      "gpuType": "T4",
      "authorship_tag": "ABX9TyMQE2TlsbRMoDXtKAUaFbbb",
      "include_colab_link": true
    },
    "kernelspec": {
      "name": "python3",
      "display_name": "Python 3"
    },
    "language_info": {
      "name": "python"
    },
    "accelerator": "GPU"
  },
  "cells": [
    {
      "cell_type": "markdown",
      "metadata": {
        "id": "view-in-github",
        "colab_type": "text"
      },
      "source": [
        "<a href=\"https://colab.research.google.com/github/Thorugoh/autoencoders/blob/main/autoencoder.ipynb\" target=\"_parent\"><img src=\"https://colab.research.google.com/assets/colab-badge.svg\" alt=\"Open In Colab\"/></a>"
      ]
    },
    {
      "cell_type": "code",
      "execution_count": 11,
      "metadata": {
        "id": "RmmgfvOqG38x"
      },
      "outputs": [],
      "source": [
        "import torch\n",
        "import torch.nn as nn\n",
        "import matplotlib.pyplot as plt\n",
        "from tqdm import tqdm\n",
        "from keras.datasets.mnist import load_data"
      ]
    },
    {
      "cell_type": "code",
      "source": [
        "(trainX, trainy), (testX, testy) = load_data()"
      ],
      "metadata": {
        "id": "yjWhqjVIJSKT"
      },
      "execution_count": 12,
      "outputs": []
    },
    {
      "cell_type": "markdown",
      "source": [],
      "metadata": {
        "id": "n4i1vXKhHEKA"
      }
    },
    {
      "cell_type": "code",
      "source": [
        "trainX = torch.from_numpy(trainX).type(torch.float)\n",
        "trainX = trainX.reshape(trainX.shape[0], 28*28)\n",
        "trainX = trainX - 127.5\n",
        "trainX = trainX / 127.5\n",
        "\n",
        "testX = torch.from_numpy(testX).type(torch.float)\n",
        "testX = testX.reshape(testX.shape[0], 28*28)\n",
        "testX = testX - 127.5\n",
        "testX = testX / 127.5"
      ],
      "metadata": {
        "id": "ECT6LFRvKDMk"
      },
      "execution_count": 13,
      "outputs": []
    },
    {
      "cell_type": "code",
      "source": [
        "class NeuralNetwork(nn.Module):\n",
        "  def __init__(self, in_dim, hidden_dim, out_dim):\n",
        "    super(NeuralNetwork, self).__init__()\n",
        "\n",
        "    self.network = nn.Sequential(nn.Linear(in_dim, hidden_dim),\n",
        "                                 nn.Tanh(),\n",
        "                                 nn.Linear(hidden_dim, out_dim),\n",
        "                                 nn.Tanh())\n",
        "\n",
        "  def forward(self, x):\n",
        "    return self.network(x)"
      ],
      "metadata": {
        "id": "ZsL0g47jHSkF"
      },
      "execution_count": 14,
      "outputs": []
    },
    {
      "cell_type": "code",
      "source": [
        "encoder = NeuralNetwork(28 * 28, 200, 200)\n",
        "decoder = NeuralNetwork(200, 200, 28 * 28)"
      ],
      "metadata": {
        "id": "6Op5U541IqwY"
      },
      "execution_count": 15,
      "outputs": []
    },
    {
      "cell_type": "code",
      "source": [
        "def sample_batch(batch_size):\n",
        "  idx = torch.randperm(trainX.shape[0])[:batch_size]\n",
        "  return trainX[idx]"
      ],
      "metadata": {
        "id": "goHRqhVCSkc6"
      },
      "execution_count": 16,
      "outputs": []
    },
    {
      "cell_type": "code",
      "source": [
        "def train(encoder, decoder, encoder_optmizer, decoder_optimizer, nb_epochs=1000, batch_size=128, device='cpu'):\n",
        "  training_loss = []\n",
        "  for epoch in tqdm(range(nb_epochs)):\n",
        "    img_batch = sample_batch(batch_size).to(device)\n",
        "    z = encoder(img_batch)\n",
        "    reconstructed_img = decoder(z)\n",
        "\n",
        "    loss = ((img_batch - reconstructed_img)**2).mean()\n",
        "\n",
        "    encoder_optmizer.zero_grad()\n",
        "    decoder_optimizer.zero_grad()\n",
        "    loss.backward()\n",
        "    encoder_optmizer.step()\n",
        "    decoder_optimizer.step()\n",
        "\n",
        "    training_loss.append(loss.item())\n",
        "\n",
        "  return training_loss\n"
      ],
      "metadata": {
        "id": "Ri-HIbDDLgUh"
      },
      "execution_count": 17,
      "outputs": []
    },
    {
      "cell_type": "code",
      "source": [
        "encoder = NeuralNetwork(28 * 28, 200, 200)\n",
        "decoder = NeuralNetwork(200, 200, 28 * 28)\n",
        "\n",
        "device = 'cuda'\n",
        "encoder = encoder.to(device)\n",
        "decoder = decoder.to(device)"
      ],
      "metadata": {
        "id": "WwRt-wsKNSdi"
      },
      "execution_count": 18,
      "outputs": []
    },
    {
      "cell_type": "code",
      "source": [
        "encoder_optmizer = torch.optim.Adam(encoder.parameters(), lr=1e-4)\n",
        "decoder_optimizer = torch.optim.Adam(decoder.parameters(), lr=1e-4)"
      ],
      "metadata": {
        "id": "32JGm0XNMg1e"
      },
      "execution_count": 19,
      "outputs": []
    },
    {
      "cell_type": "code",
      "source": [
        "training_loss = train(encoder, decoder, encoder_optmizer,\n",
        "                      decoder_optimizer, nb_epochs=10000,\n",
        "                      batch_size=128, device=device)"
      ],
      "metadata": {
        "colab": {
          "base_uri": "https://localhost:8080/"
        },
        "id": "QgYXKj42M6K4",
        "outputId": "cb226fa7-7787-489a-aa3c-4f5acb9e887e"
      },
      "execution_count": 20,
      "outputs": [
        {
          "output_type": "stream",
          "name": "stderr",
          "text": [
            "100%|██████████| 10000/10000 [00:37<00:00, 268.88it/s]\n"
          ]
        }
      ]
    },
    {
      "cell_type": "code",
      "source": [
        "plt.plot(training_loss)"
      ],
      "metadata": {
        "colab": {
          "base_uri": "https://localhost:8080/",
          "height": 447
        },
        "id": "S06QNtMTOK0f",
        "outputId": "71cc76a7-5849-402d-ff51-cdb8a64cf2b7"
      },
      "execution_count": 21,
      "outputs": [
        {
          "output_type": "execute_result",
          "data": {
            "text/plain": [
              "[<matplotlib.lines.Line2D at 0x7f4413775f30>]"
            ]
          },
          "metadata": {},
          "execution_count": 21
        },
        {
          "output_type": "display_data",
          "data": {
            "text/plain": [
              "<Figure size 640x480 with 1 Axes>"
            ],
            "image/png": "[encoded data removed]"
          },
          "metadata": {}
        }
      ]
    },
    {
      "cell_type": "code",
      "source": [
        "img = sample_batch(1).to(device)\n",
        "z = encoder(img)\n",
        "reconstructed_data = decoder(z)"
      ],
      "metadata": {
        "id": "0GmLNlo_OU2n"
      },
      "execution_count": 22,
      "outputs": []
    },
    {
      "cell_type": "code",
      "source": [
        "plt.imshow(img.cpu().data.numpy().reshape(28, 28), cmap='gray')"
      ],
      "metadata": {
        "colab": {
          "base_uri": "https://localhost:8080/",
          "height": 447
        },
        "id": "R12bGbh3UZRg",
        "outputId": "a3202b5f-0787-4eb4-8101-b291894c5544"
      },
      "execution_count": 23,
      "outputs": [
        {
          "output_type": "execute_result",
          "data": {
            "text/plain": [
              "<matplotlib.image.AxesImage at 0x7f4411651330>"
            ]
          },
          "metadata": {},
          "execution_count": 23
        },
        {
          "output_type": "display_data",
          "data": {
            "text/plain": [
              "<Figure size 640x480 with 1 Axes>"
            ],
            "image/png": "[encoded data removed]"
          },
          "metadata": {}
        }
      ]
    },
    {
      "cell_type": "code",
      "source": [
        "z"
      ],
      "metadata": {
        "colab": {
          "base_uri": "https://localhost:8080/"
        },
        "collapsed": true,
        "id": "k9u1yXV2VnFd",
        "outputId": "3bcb2ab3-4a46-4e7c-ae23-b8aacca62fc7"
      },
      "execution_count": 24,
      "outputs": [
        {
          "output_type": "execute_result",
          "data": {
            "text/plain": [
              "tensor([[-5.9260e-01, -7.9891e-01,  7.6009e-01,  2.6648e-01,  2.6109e-01,\n",
              "          2.0717e-01, -7.5119e-01, -1.9020e-01,  7.6322e-01,  5.3463e-01,\n",
              "         -2.0668e-01,  3.6858e-01,  6.4952e-01,  5.0660e-01,  8.3078e-02,\n",
              "         -3.5123e-01,  4.8352e-01,  3.7267e-01, -5.0407e-01,  1.8828e-01,\n",
              "         -6.6864e-01,  6.5808e-01, -6.2622e-01,  2.8393e-01, -8.0238e-01,\n",
              "          5.4387e-01,  3.3765e-01,  1.9528e-01, -4.6923e-01,  7.6117e-01,\n",
              "          7.0910e-03,  4.5833e-01,  8.4861e-01, -2.6749e-01, -5.1083e-01,\n",
              "          9.5013e-02, -3.0793e-01,  5.7578e-01,  6.6942e-01, -1.0358e-02,\n",
              "         -4.3827e-01, -1.7701e-01, -1.7529e-01, -1.0662e-01, -8.3138e-02,\n",
              "         -7.9410e-02,  5.0239e-01, -2.4110e-01,  1.5164e-01,  2.0581e-01,\n",
              "          1.1343e-02,  4.1258e-01,  1.5646e-01,  5.5155e-01,  7.0315e-01,\n",
              "         -8.6469e-01,  4.7714e-01,  4.1954e-01, -4.4885e-01,  7.3718e-01,\n",
              "         -3.1149e-01,  7.2358e-01, -1.5096e-01, -2.9542e-01,  7.8896e-01,\n",
              "          5.4885e-01,  2.9810e-01, -5.1652e-01,  3.4293e-01,  7.2940e-01,\n",
              "          7.1724e-02,  2.1238e-01,  1.5091e-01,  1.2623e-01, -9.5346e-02,\n",
              "          5.0699e-01, -1.6681e-01, -8.6280e-05,  4.5289e-01,  4.0465e-02,\n",
              "          9.3807e-02,  5.3544e-01, -1.6888e-01,  4.0109e-01,  8.7623e-01,\n",
              "          4.1400e-01,  5.8465e-01,  8.7698e-01, -2.0833e-01, -4.0443e-01,\n",
              "         -1.0411e-02,  1.0312e-01, -3.4350e-01, -1.4601e-01,  6.7859e-01,\n",
              "          4.7233e-01, -5.1935e-01,  2.8103e-02, -1.8190e-01,  5.2580e-01,\n",
              "          7.9476e-01, -1.0935e-01,  1.3506e-01,  2.6420e-01,  5.1638e-01,\n",
              "          3.2462e-01, -7.6186e-01,  6.5548e-01,  2.8762e-02,  6.1316e-01,\n",
              "          3.8157e-01, -4.4425e-01,  3.5053e-01,  4.3916e-01, -6.2887e-01,\n",
              "          5.2580e-01,  2.0918e-01,  3.0896e-02,  5.6358e-01,  1.6457e-01,\n",
              "         -4.2991e-01,  4.9474e-01,  2.6386e-01,  9.3367e-02,  6.3843e-01,\n",
              "         -1.9510e-01,  1.9704e-01,  3.9327e-01,  2.2085e-02,  1.2871e-01,\n",
              "         -4.9593e-01, -2.4912e-01,  2.6493e-01, -2.3111e-01,  4.9283e-01,\n",
              "         -4.4483e-02, -2.9929e-01,  3.9797e-01,  5.5670e-01, -7.4233e-01,\n",
              "          2.6725e-01, -4.2870e-01, -6.6191e-03,  6.1989e-01, -2.5414e-01,\n",
              "          1.8355e-01, -6.4893e-01, -8.4930e-02,  1.2884e-01, -2.3282e-01,\n",
              "         -7.6544e-02,  3.9465e-01, -6.1192e-02,  6.6923e-01, -7.3110e-02,\n",
              "         -9.7948e-02,  4.2464e-01, -5.2849e-01,  2.2133e-01, -3.8509e-01,\n",
              "         -2.9589e-01, -6.7818e-01, -4.3064e-01,  4.3071e-01,  8.6620e-01,\n",
              "         -2.7967e-01, -2.8225e-01,  5.1296e-01, -1.4771e-01, -1.2391e-01,\n",
              "         -7.6812e-01, -1.2924e-01, -7.5419e-02,  6.7823e-03,  7.4535e-01,\n",
              "         -1.1364e-01,  6.9034e-01,  8.0189e-02, -1.4839e-01, -4.8141e-01,\n",
              "          6.8886e-01,  6.8500e-01,  4.9885e-02, -2.2882e-02,  8.9096e-01,\n",
              "         -1.5712e-01,  4.0010e-01,  6.3926e-01, -3.5120e-01, -3.2010e-02,\n",
              "         -1.5252e-01,  1.5572e-01,  1.2727e-01, -5.2411e-01, -4.0408e-01,\n",
              "         -2.3586e-01,  7.8334e-02,  5.7690e-02,  5.1475e-01, -6.7395e-01]],\n",
              "       device='cuda:0', grad_fn=<TanhBackward0>)"
            ]
          },
          "metadata": {},
          "execution_count": 24
        }
      ]
    },
    {
      "cell_type": "code",
      "source": [
        "plt.imshow(reconstructed_data.cpu().data.numpy().reshape(28, 28), cmap='gray')"
      ],
      "metadata": {
        "colab": {
          "base_uri": "https://localhost:8080/",
          "height": 447
        },
        "id": "tp9wqLbYPP7K",
        "outputId": "5c4b2202-1b12-47d5-bd4c-3bcd64773dc6"
      },
      "execution_count": 25,
      "outputs": [
        {
          "output_type": "execute_result",
          "data": {
            "text/plain": [
              "<matplotlib.image.AxesImage at 0x7f44116da530>"
            ]
          },
          "metadata": {},
          "execution_count": 25
        },
        {
          "output_type": "display_data",
          "data": {
            "text/plain": [
              "<Figure size 640x480 with 1 Axes>"
            ],
            "image/png": "[encoded data removed]"
          },
          "metadata": {}
        }
      ]
    }
  ]
}